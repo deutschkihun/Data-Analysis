{
  "nbformat": 4,
  "nbformat_minor": 0,
  "metadata": {
    "kernelspec": {
      "display_name": "Python 3",
      "language": "python",
      "name": "python3"
    },
    "language_info": {
      "codemirror_mode": {
        "name": "ipython",
        "version": 3
      },
      "file_extension": ".py",
      "mimetype": "text/x-python",
      "name": "python",
      "nbconvert_exporter": "python",
      "pygments_lexer": "ipython3",
      "version": "3.7.3"
    },
    "colab": {
      "name": "WeRateDog  Tweet Analysis.ipynb",
      "provenance": [],
      "include_colab_link": true
    }
  },
  "cells": [
    {
      "cell_type": "markdown",
      "metadata": {
        "id": "view-in-github",
        "colab_type": "text"
      },
      "source": [
        "<a href=\"https://colab.research.google.com/github/deutschkihun/Data-Analysis/blob/master/WeRateDog_Tweet_Analysis.ipynb\" target=\"_parent\"><img src=\"https://colab.research.google.com/assets/colab-badge.svg\" alt=\"Open In Colab\"/></a>"
      ]
    },
    {
      "cell_type": "markdown",
      "metadata": {
        "id": "gM35vvJMvbW1",
        "colab_type": "text"
      },
      "source": [
        "# WeRateDog Tweet Analysis"
      ]
    },
    {
      "cell_type": "markdown",
      "metadata": {
        "id": "nH1DMvYuvbW9",
        "colab_type": "text"
      },
      "source": [
        "\n",
        "\n",
        "## Structure\n",
        "\n",
        "- **[1. Importing the prerequisite libraries](#imports)**\n",
        "- **[2. TwitterArchive.csv](#TwitterArchive)**\n",
        "- **[3. ImagePrediction.tsv](#ImagePrediction)**\n",
        "- **[4.TwitterAPI.csv](#twitterAPI)**\n",
        "- **[5. Data Visualization](#DV)**\n",
        "- **[6. Conclusion](#conclusion)**\n",
        "\n",
        "## Source file folder \n",
        "https://drive.google.com/drive/folders/1MvOOymXwZXuK2PU8JqBCJhBxQHwM6Q72?usp=sharing\n",
        "\n",
        "## How did I collected this data ? Please check out following link\n",
        "[WeRatedog Tweet crawling](https://drive.google.com/file/d/1LBvyzG7m7pFzJmnpgT8D9tNCAF2pTwJj/view?usp=sharing)"
      ]
    },
    {
      "cell_type": "markdown",
      "metadata": {
        "id": "0Q7bMtQBvbXA",
        "colab_type": "text"
      },
      "source": [
        "# <a name=\"imports\"></a> 1. Importing the prerequisite libraries"
      ]
    },
    {
      "cell_type": "code",
      "metadata": {
        "id": "FtcP9vhxvbXC",
        "colab_type": "code",
        "colab": {}
      },
      "source": [
        "# load necessary libraries \n",
        "import pandas as pd\n",
        "import numpy as np\n",
        "import matplotlib.pyplot as plt\n",
        "import datetime\n",
        "import seaborn as sns"
      ],
      "execution_count": null,
      "outputs": []
    },
    {
      "cell_type": "markdown",
      "metadata": {
        "id": "OHMKgAMTvbXd",
        "colab_type": "text"
      },
      "source": [
        "# <a name=\"TwitterArchive\"></a> 2. TwitterArchive"
      ]
    },
    {
      "cell_type": "markdown",
      "metadata": {
        "id": "oCN2flYDvbXf",
        "colab_type": "text"
      },
      "source": [
        "## 2.1 TwitterArchive Cleaning (Quality Problem)"
      ]
    },
    {
      "cell_type": "code",
      "metadata": {
        "id": "KGCV3xwpvbXi",
        "colab_type": "code",
        "colab": {}
      },
      "source": [
        "df = pd.read_csv('TwitterArchive.csv')"
      ],
      "execution_count": null,
      "outputs": []
    },
    {
      "cell_type": "markdown",
      "metadata": {
        "id": "58M6c9I-vbXx",
        "colab_type": "text"
      },
      "source": [
        "### 2.1.1 `None` is not identifed as a missing value "
      ]
    },
    {
      "cell_type": "code",
      "metadata": {
        "id": "6FzDJhS-vbX0",
        "colab_type": "code",
        "colab": {}
      },
      "source": [
        "value = np.nan\n",
        "df=df.replace({'None':value})"
      ],
      "execution_count": null,
      "outputs": []
    },
    {
      "cell_type": "code",
      "metadata": {
        "id": "4GpwXMaCvbX7",
        "colab_type": "code",
        "colab": {},
        "outputId": "249e1a49-cd10-4529-cf68-e6c8c920e742"
      },
      "source": [
        "df[df['doggo'].str.contains('None',na=False)]\n",
        "# \"None\" is removed "
      ],
      "execution_count": null,
      "outputs": [
        {
          "output_type": "execute_result",
          "data": {
            "text/html": [
              "<div>\n",
              "<style scoped>\n",
              "    .dataframe tbody tr th:only-of-type {\n",
              "        vertical-align: middle;\n",
              "    }\n",
              "\n",
              "    .dataframe tbody tr th {\n",
              "        vertical-align: top;\n",
              "    }\n",
              "\n",
              "    .dataframe thead th {\n",
              "        text-align: right;\n",
              "    }\n",
              "</style>\n",
              "<table border=\"1\" class=\"dataframe\">\n",
              "  <thead>\n",
              "    <tr style=\"text-align: right;\">\n",
              "      <th></th>\n",
              "      <th>tweet_id</th>\n",
              "      <th>in_reply_to_status_id</th>\n",
              "      <th>in_reply_to_user_id</th>\n",
              "      <th>timestamp</th>\n",
              "      <th>source</th>\n",
              "      <th>text</th>\n",
              "      <th>retweeted_status_id</th>\n",
              "      <th>retweeted_status_user_id</th>\n",
              "      <th>retweeted_status_timestamp</th>\n",
              "      <th>expanded_urls</th>\n",
              "      <th>rating_numerator</th>\n",
              "      <th>rating_denominator</th>\n",
              "      <th>name</th>\n",
              "      <th>doggo</th>\n",
              "      <th>floofer</th>\n",
              "      <th>pupper</th>\n",
              "      <th>puppo</th>\n",
              "    </tr>\n",
              "  </thead>\n",
              "  <tbody>\n",
              "  </tbody>\n",
              "</table>\n",
              "</div>"
            ],
            "text/plain": [
              "Empty DataFrame\n",
              "Columns: [tweet_id, in_reply_to_status_id, in_reply_to_user_id, timestamp, source, text, retweeted_status_id, retweeted_status_user_id, retweeted_status_timestamp, expanded_urls, rating_numerator, rating_denominator, name, doggo, floofer, pupper, puppo]\n",
              "Index: []"
            ]
          },
          "metadata": {
            "tags": []
          },
          "execution_count": 71
        }
      ]
    },
    {
      "cell_type": "markdown",
      "metadata": {
        "id": "q-eG0UspvbYB",
        "colab_type": "text"
      },
      "source": [
        "### 2.1.2 Unnecessary string `'+0000'` in 'timestamp'"
      ]
    },
    {
      "cell_type": "code",
      "metadata": {
        "id": "qOE_vVrVvbYC",
        "colab_type": "code",
        "colab": {}
      },
      "source": [
        "df['timestamp']=df['timestamp'].str.rstrip('+0000')"
      ],
      "execution_count": null,
      "outputs": []
    },
    {
      "cell_type": "code",
      "metadata": {
        "id": "D1h384ZRvbYP",
        "colab_type": "code",
        "colab": {},
        "outputId": "49729a3e-7b21-4843-8b4f-af135ae9affa"
      },
      "source": [
        "df['timestamp'].head()"
      ],
      "execution_count": null,
      "outputs": [
        {
          "output_type": "execute_result",
          "data": {
            "text/plain": [
              "0    2017-08-01 16:23:56 \n",
              "1    2017-08-01 00:17:27 \n",
              "2    2017-07-31 00:18:03 \n",
              "3    2017-07-30 15:58:51 \n",
              "4    2017-07-29 16:00:24 \n",
              "Name: timestamp, dtype: object"
            ]
          },
          "metadata": {
            "tags": []
          },
          "execution_count": 73
        }
      ]
    },
    {
      "cell_type": "markdown",
      "metadata": {
        "id": "kp4dLgNFvbYU",
        "colab_type": "text"
      },
      "source": [
        "### 2.1.3 timestampe has `wrong datatype`"
      ]
    },
    {
      "cell_type": "code",
      "metadata": {
        "id": "gqqi5DzWvbYV",
        "colab_type": "code",
        "colab": {}
      },
      "source": [
        "import datetime\n",
        "df['timestamp']=pd.to_datetime(df['timestamp'])"
      ],
      "execution_count": null,
      "outputs": []
    },
    {
      "cell_type": "markdown",
      "metadata": {
        "id": "PdGYYMu1vbYY",
        "colab_type": "text"
      },
      "source": [
        "### 2.1.4 Because of the length of text in table, it's not able to `display entire table`"
      ]
    },
    {
      "cell_type": "code",
      "metadata": {
        "id": "K3Mc4cSqvbYY",
        "colab_type": "code",
        "colab": {}
      },
      "source": [
        "pd.set_option('display.max_colwidth', -1)"
      ],
      "execution_count": null,
      "outputs": []
    },
    {
      "cell_type": "markdown",
      "metadata": {
        "id": "JEIMjtSAvbYc",
        "colab_type": "text"
      },
      "source": [
        "### 2.1.5  descending `twitter ID`"
      ]
    },
    {
      "cell_type": "code",
      "metadata": {
        "id": "NZnsIYb_vbYd",
        "colab_type": "code",
        "colab": {}
      },
      "source": [
        "df=df.sort_values(by='tweet_id',ascending=True)\n",
        "df = df.reset_index(drop=True)"
      ],
      "execution_count": null,
      "outputs": []
    },
    {
      "cell_type": "markdown",
      "metadata": {
        "id": "2VpcEIo-vbYk",
        "colab_type": "text"
      },
      "source": [
        "### 2.1.6 invaild data `name`"
      ]
    },
    {
      "cell_type": "code",
      "metadata": {
        "id": "uoGWmtaBvbYl",
        "colab_type": "code",
        "colab": {},
        "outputId": "4c26d7a8-488c-4df5-9474-8432d1e1266e"
      },
      "source": [
        "df['name'].value_counts().head(12)\n",
        "\n",
        "# A,An and The can't be  name. replace name with start 'a' and 't'"
      ],
      "execution_count": null,
      "outputs": [
        {
          "output_type": "execute_result",
          "data": {
            "text/plain": [
              "a          55\n",
              "Charlie    12\n",
              "Oliver     11\n",
              "Cooper     11\n",
              "Lucy       11\n",
              "Tucker     10\n",
              "Penny      10\n",
              "Lola       10\n",
              "Winston    9 \n",
              "Bo         9 \n",
              "Sadie      8 \n",
              "the        8 \n",
              "Name: name, dtype: int64"
            ]
          },
          "metadata": {
            "tags": []
          },
          "execution_count": 77
        }
      ]
    },
    {
      "cell_type": "code",
      "metadata": {
        "id": "GvmFb5jnvbYq",
        "colab_type": "code",
        "colab": {}
      },
      "source": [
        "df['name'] = df['name'].replace({'a':'Alexander'})\n",
        "df['name'] = df['name'].replace({'an':'Adrian'})\n",
        "df['name'] = df['name'].replace({'the':'Thomas'})"
      ],
      "execution_count": null,
      "outputs": []
    },
    {
      "cell_type": "markdown",
      "metadata": {
        "id": "BvjelQdGvbYs",
        "colab_type": "text"
      },
      "source": [
        "## 2.2 TwitterArchive Cleaning (Tidiness Problem)"
      ]
    },
    {
      "cell_type": "markdown",
      "metadata": {
        "id": "Ma--n09DvbYt",
        "colab_type": "text"
      },
      "source": [
        "### 2.2.1 Column 'text' contains url but exist already only for `expanded_urls`\n",
        "\n",
        "- Remove `expanded_urls`\n",
        "- extract url from `text`"
      ]
    },
    {
      "cell_type": "code",
      "metadata": {
        "id": "f4LX4AqzvbYu",
        "colab_type": "code",
        "colab": {}
      },
      "source": [
        "url=df['text'].str.extract(r'(https?:\\/\\/(www\\.)?[-a-zA-Z0-9@:%._\\+~#=]{1,256}\\.[a-zA-Z0-9()]{1,6}\\/([-a-zA-Z0-9()@:%_\\+.~#?&//=]*))', expand=True)[0]\n",
        "\n",
        "\n",
        "# Alternative :using re library \n",
        "# Documentation  : https://docs.python.org/3/library/re.html\n",
        "#import re\n",
        "#url = [re.findall(r'http.*',x,re.I)[0] for x in tae['text']]"
      ],
      "execution_count": null,
      "outputs": []
    },
    {
      "cell_type": "code",
      "metadata": {
        "id": "sdIqvXU2vbYx",
        "colab_type": "code",
        "colab": {},
        "outputId": "90c6fef5-2464-4239-e894-36b2cba39431"
      },
      "source": [
        "# we add need to add  so that the last element will not get cut off \n",
        "df.text = df.text + ' '\n",
        "\n",
        "\n",
        "# check whether all data in text column has 'url with start http' in the end \n",
        "print((df.text.str.contains(\"http\")==False).sum())\n",
        "\n",
        "# use lambda,strip,apply fuction \n",
        "df.text = df.text.apply(lambda x : x[:x.find('http')]).str.strip()"
      ],
      "execution_count": null,
      "outputs": [
        {
          "output_type": "stream",
          "text": [
            "70\n"
          ],
          "name": "stdout"
        }
      ]
    },
    {
      "cell_type": "code",
      "metadata": {
        "id": "V2ybHFnrvbY0",
        "colab_type": "code",
        "colab": {}
      },
      "source": [
        "# change the format to DataFrame\n",
        "url = pd.DataFrame(data=url)"
      ],
      "execution_count": null,
      "outputs": []
    },
    {
      "cell_type": "code",
      "metadata": {
        "id": "BKqY5gUavbY3",
        "colab_type": "code",
        "colab": {}
      },
      "source": [
        "# merge text in tae column and remmove expanded_urls column \n",
        "df = pd.merge(df,url, right_index=True, left_index=True)\n",
        "#remmove unnecessary column \"expanded_urls\" \n",
        "df=df.drop(columns=['expanded_urls'])"
      ],
      "execution_count": null,
      "outputs": []
    },
    {
      "cell_type": "code",
      "metadata": {
        "id": "Y3olNozzvbY8",
        "colab_type": "code",
        "colab": {}
      },
      "source": [
        "# rename column '0' to 'url'\n",
        "df= df.rename(columns={0: 'url'})"
      ],
      "execution_count": null,
      "outputs": []
    },
    {
      "cell_type": "markdown",
      "metadata": {
        "id": "n0KTGHrevbZA",
        "colab_type": "text"
      },
      "source": [
        "### 2.2.2 Arange `columns position`"
      ]
    },
    {
      "cell_type": "code",
      "metadata": {
        "id": "V-VoO-qZvbZA",
        "colab_type": "code",
        "colab": {}
      },
      "source": [
        "# arange the position of column  \n",
        "df = pd.DataFrame(df,columns=[  'tweet_id','timestamp', 'source', 'text','url',\n",
        "      'rating_numerator','rating_denominator', 'name', 'doggo', 'floofer', 'pupper', 'puppo',\n",
        "       'in_reply_to_status_id', 'in_reply_to_user_id', 'retweeted_status_id', 'retweeted_status_user_id', 'retweeted_status_timestamp' ])"
      ],
      "execution_count": null,
      "outputs": []
    },
    {
      "cell_type": "markdown",
      "metadata": {
        "id": "xe-wexvmvbZD",
        "colab_type": "text"
      },
      "source": [
        "# <a name=\"ImagePrediction\"></a> 3. ImagePrediction.tsv"
      ]
    },
    {
      "cell_type": "code",
      "metadata": {
        "id": "uN7wDfsGvbZD",
        "colab_type": "code",
        "colab": {}
      },
      "source": [
        "df2 = pd.read_csv('ImagePrediction.tsv',sep='\\t')"
      ],
      "execution_count": null,
      "outputs": []
    },
    {
      "cell_type": "markdown",
      "metadata": {
        "id": "4xOCDfMsvbZF",
        "colab_type": "text"
      },
      "source": [
        "## 3.1 ImagePrediction Cleaning (Quality Problem) "
      ]
    },
    {
      "cell_type": "markdown",
      "metadata": {
        "id": "OwWakvauvbZG",
        "colab_type": "text"
      },
      "source": [
        "### 3.1.1 Wrong name of `breed`"
      ]
    },
    {
      "cell_type": "code",
      "metadata": {
        "id": "Fvuj69CjvbZG",
        "colab_type": "code",
        "colab": {}
      },
      "source": [
        "df2=df2.replace({'Leonberg':'Leonberger'})"
      ],
      "execution_count": null,
      "outputs": []
    },
    {
      "cell_type": "markdown",
      "metadata": {
        "id": "g2w1Q9GpvbZI",
        "colab_type": "text"
      },
      "source": [
        "###  3.1.2 inconsistent `url typ`"
      ]
    },
    {
      "cell_type": "code",
      "metadata": {
        "id": "MP1oeWHHvbZJ",
        "colab_type": "code",
        "colab": {},
        "outputId": "33769954-9a92-4157-fe46-23cc0a2f4d1c"
      },
      "source": [
        "#find not jpg urls \n",
        "url = np.array(df2['jpg_url'])\n",
        "list = []\n",
        "for item in url : \n",
        "    if '.jpg' not in item:\n",
        "        list.append(item)\n",
        "        \n",
        "print(list)"
      ],
      "execution_count": null,
      "outputs": [
        {
          "output_type": "stream",
          "text": [
            "['https://pbs.twimg.com/tweet_video_thumb/CVKtH-4WIAAmiQ5.png', 'https://pbs.twimg.com/tweet_video_thumb/CZ0mhduWkAICSGe.png']\n"
          ],
          "name": "stdout"
        }
      ]
    },
    {
      "cell_type": "code",
      "metadata": {
        "id": "VOn0jw1hvbZL",
        "colab_type": "code",
        "colab": {}
      },
      "source": [
        "df2['jpg_url']=df2['jpg_url'].replace({'https://pbs.twimg.com/tweet_video_thumb/CVKtH-4WIAAmiQ5.png'\n",
        "                                                                 :'https://pbs.twimg.com/tweet_video_thumb/CVKtH-4WIAAmiQ5.jpg'})\n",
        "                                                              "
      ],
      "execution_count": null,
      "outputs": []
    },
    {
      "cell_type": "code",
      "metadata": {
        "id": "46sB23pRvbZO",
        "colab_type": "code",
        "colab": {}
      },
      "source": [
        "df2['jpg_url']=df2['jpg_url'].replace({'https://pbs.twimg.com/tweet_video_thumb/CZ0mhduWkAICSGe.png'\n",
        "                                                                 :'https://pbs.twimg.com/tweet_video_thumb/CZ0mhduWkAICSGe.jpg'})"
      ],
      "execution_count": null,
      "outputs": []
    },
    {
      "cell_type": "markdown",
      "metadata": {
        "id": "vAC0s58XvbZR",
        "colab_type": "text"
      },
      "source": [
        "`Test`"
      ]
    },
    {
      "cell_type": "markdown",
      "metadata": {
        "id": "ojFdXPinvbZR",
        "colab_type": "text"
      },
      "source": [
        "# <a name=\"twitterAPI\"></a> 4. TwitterAPI.csv"
      ]
    },
    {
      "cell_type": "code",
      "metadata": {
        "id": "W0t1LoFqvbZS",
        "colab_type": "code",
        "colab": {}
      },
      "source": [
        "df3 = pd.read_csv('twitter_api.csv')"
      ],
      "execution_count": null,
      "outputs": []
    },
    {
      "cell_type": "markdown",
      "metadata": {
        "id": "jyAIwcXxvbZU",
        "colab_type": "text"
      },
      "source": [
        "##  4.1. TwitterAPI Cleaning (Quality Problem)"
      ]
    },
    {
      "cell_type": "markdown",
      "metadata": {
        "id": "Uz6wYAOovbZU",
        "colab_type": "text"
      },
      "source": [
        "### 4.1.1 wrong `column name`"
      ]
    },
    {
      "cell_type": "code",
      "metadata": {
        "id": "cJOwx1HfvbZV",
        "colab_type": "code",
        "colab": {}
      },
      "source": [
        "df3 = df3.drop(columns=['Unnamed: 0'])\n",
        "df3 = df3.rename(columns={'tweet_ID':'tweet_id'})"
      ],
      "execution_count": null,
      "outputs": []
    },
    {
      "cell_type": "markdown",
      "metadata": {
        "id": "_cQsmfxbvbZX",
        "colab_type": "text"
      },
      "source": [
        "##  4.2 TwitterAPI Cleaning (Tidness Problem)\n",
        "- merge Image_prediction files with twitter_api.Because there are a lot of tweet_ids,which are intersect each other). "
      ]
    },
    {
      "cell_type": "markdown",
      "metadata": {
        "id": "A8OzLqkIvbZX",
        "colab_type": "text"
      },
      "source": [
        "### 4.2.1 merge ImagePrediction & TwittrAPI (Because of many intersections)"
      ]
    },
    {
      "cell_type": "code",
      "metadata": {
        "id": "EE1o74SvvbZX",
        "colab_type": "code",
        "colab": {}
      },
      "source": [
        "df4=pd.merge(df2,df3,on='tweet_id')"
      ],
      "execution_count": null,
      "outputs": []
    },
    {
      "cell_type": "code",
      "metadata": {
        "id": "YtD9rGoLvbZa",
        "colab_type": "code",
        "colab": {}
      },
      "source": [
        "# Save file\n",
        "MergeData.to_csv('MergeData.csv')"
      ],
      "execution_count": null,
      "outputs": []
    },
    {
      "cell_type": "markdown",
      "metadata": {
        "id": "HkpHmY_NvbZe",
        "colab_type": "text"
      },
      "source": [
        "# <a name=\"DV\"></a> 5. Data Visualization"
      ]
    },
    {
      "cell_type": "code",
      "metadata": {
        "id": "NQ8Uk5ZevbZf",
        "colab_type": "code",
        "colab": {},
        "outputId": "84c9feaf-76cd-45d2-96b8-b27191a1bf7a"
      },
      "source": [
        "#Compare confidence rate of p1.p2.p3\n",
        "\n",
        "list = [df4.p1_conf.mean(),df4.p2_conf.mean(),df4.p3_conf.mean()]\n",
        "plt.subplots(figsize=(10,7))\n",
        "ax=plt.bar(height=list,x=['p1_conf','p2_conf','p3_conf'])\n",
        "plt.xlabel('confidence rate of picture')\n",
        "plt.ylabel('Mean of confidnece rate')\n",
        "plt.title('Confidence rate');\n",
        "\n",
        "for p in ax.patches:\n",
        "    width, height = p.get_width(), p.get_height()\n",
        "    x, y = p.get_xy() \n",
        "    plt.annotate('{:.0%}'.format(height), (x+0.35, y-0.02 + height-0.01 + 0.01))\n",
        "    # arange the position of annotation "
      ],
      "execution_count": null,
      "outputs": [
        {
          "output_type": "display_data",
          "data": {
            "image/png": "[encoded data removed]",
            "text/plain": [
              "<Figure size 720x504 with 1 Axes>"
            ]
          },
          "metadata": {
            "tags": [],
            "needs_background": "light"
          }
        }
      ]
    },
    {
      "cell_type": "code",
      "metadata": {
        "id": "OzQ3OiCTvbZh",
        "colab_type": "code",
        "colab": {}
      },
      "source": [
        "df['Hour'] = pd.to_datetime(df['timestamp']).dt.hour\n",
        "df['Minute'] = pd.to_datetime(df['timestamp']).dt.minute\n",
        "df['Second'] = pd.to_datetime(df['timestamp']).dt.second\n",
        "df['Count'] = 1"
      ],
      "execution_count": null,
      "outputs": []
    },
    {
      "cell_type": "code",
      "metadata": {
        "id": "MMhBXd0WvbZj",
        "colab_type": "code",
        "colab": {},
        "outputId": "85dc0450-f1bf-4b8b-a51b-7a60232b922a"
      },
      "source": [
        "keys = [pair for pair, df in df.groupby(['Hour'])]\n",
        "plt.subplots(figsize=(10,7))\n",
        "plt.plot(keys, df.groupby(['Hour']).count()['Count'])\n",
        "plt.xlabel('Hour')\n",
        "plt.ylabel('Number of tweet')\n",
        "plt.xticks(keys)\n",
        "plt.title('Timeline of Hour and number of tweet');"
      ],
      "execution_count": null,
      "outputs": [
        {
          "output_type": "display_data",
          "data": {
            "image/png": "[encoded data removed]",
            "text/plain": [
              "<Figure size 720x504 with 1 Axes>"
            ]
          },
          "metadata": {
            "tags": [],
            "needs_background": "light"
          }
        }
      ]
    },
    {
      "cell_type": "code",
      "metadata": {
        "id": "R3j4-FW4vbZm",
        "colab_type": "code",
        "colab": {},
        "outputId": "e01f7e92-8650-43cf-aefd-5e0146b5408e"
      },
      "source": [
        "plt.subplots(figsize=(10,7))\n",
        "under_10 = df.query('rating_numerator<=10')\n",
        "rating_numerator_counts = under_10.rating_numerator.value_counts()\n",
        "rating_numerator_counts=rating_numerator_counts.sort_index(ascending=False)\n",
        "\n",
        "ax=sns.countplot(data=under_10,y='rating_numerator')\n",
        "plt.title('Number of rating numerator');\n",
        "\n",
        "\n",
        "for i in range(rating_numerator_counts.shape[0]):\n",
        "    count = rating_numerator_counts[i]\n",
        "    pct_string = '{:0.1f}%'.format(100*count/under_10.shape[0])\n",
        "    plt.text(count+1,i,pct_string,va='center')\n",
        "    # count+1,i is coordination of (x,y)"
      ],
      "execution_count": null,
      "outputs": [
        {
          "output_type": "display_data",
          "data": {
            "image/png": "[encoded data removed]",
            "text/plain": [
              "<Figure size 720x504 with 1 Axes>"
            ]
          },
          "metadata": {
            "tags": [],
            "needs_background": "light"
          }
        }
      ]
    },
    {
      "cell_type": "markdown",
      "metadata": {
        "id": "iO1QvgJAvbZo",
        "colab_type": "text"
      },
      "source": [
        "# <a name=\"conclusion\"></a> 6.Conclusion"
      ]
    },
    {
      "cell_type": "markdown",
      "metadata": {
        "id": "9d9axr-HvbZp",
        "colab_type": "text"
      },
      "source": [
        "`1.` p1 shows higher possibility of confidene rate than p2 and p3 noticeably.Also the percentag of p2's confidence rate is two times heiger than p3. \n",
        "\n",
        "\n",
        "`2` There is no tweet data between 7 to 11 o'clock. I'm going to guess that generally people are at work and they just focus more on their work After lunch time they start to do twitter as usual and the more the time close to get off work the higher the number of active user.\n",
        "\n",
        "\n",
        "`3` Rating system is very generous.Over 50% of pictures got perfect score.Notice we are handling only rating result with maximum point 10"
      ]
    }
  ]
}